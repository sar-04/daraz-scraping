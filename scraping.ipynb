{
 "cells": [
  {
   "cell_type": "code",
   "execution_count": 92,
   "metadata": {},
   "outputs": [],
   "source": [
    "import re\n",
    "import os\n",
    "from selenium.webdriver.support.ui import WebDriverWait\n",
    "import time\n",
    "from selenium.webdriver.common.action_chains import ActionChains\n",
    "from selenium import webdriver\n",
    "from selenium.webdriver.chrome.options import Options\n",
    "from selenium.webdriver.common.keys import Keys\n",
    "from selenium.webdriver.common.by import By\n",
    "from selenium.common.exceptions import NoSuchElementException\n",
    "from selenium import webdriver\n",
    "from selenium.webdriver.chrome.service import Service as ChromeService\n",
    "from webdriver_manager.chrome import ChromeDriverManager\n",
    "import pandas as pd\n",
    "from selenium.common.exceptions import StaleElementReferenceException\n",
    "from selenium.webdriver.support import expected_conditions as EC\n",
    "import nltk\n",
    "from nltk import word_tokenize\n",
    "from nltk.corpus import stopwords\n",
    "from nltk.sentiment import SentimentIntensityAnalyzer\n",
    "import random"
   ]
  },
  {
   "cell_type": "code",
   "execution_count": 93,
   "metadata": {},
   "outputs": [],
   "source": [
    "driver = webdriver.Chrome(service=ChromeService(ChromeDriverManager().install()))"
   ]
  },
  {
   "cell_type": "code",
   "execution_count": 94,
   "metadata": {},
   "outputs": [],
   "source": [
    "driver.get('https://www.daraz.pk/smartphones/')"
   ]
  },
  {
   "cell_type": "code",
   "execution_count": 5,
   "metadata": {},
   "outputs": [],
   "source": [
    "actions = ActionChains(driver)"
   ]
  },
  {
   "cell_type": "code",
   "execution_count": 95,
   "metadata": {},
   "outputs": [],
   "source": [
    "productDF = pd.DataFrame(columns=['id','Score','Title','Price','User Rating','Free Shipping Status','Daraz Mall Status','Seller Rating','Shipping rating','link'])"
   ]
  },
  {
   "cell_type": "code",
   "execution_count": 96,
   "metadata": {},
   "outputs": [],
   "source": [
    "output_csv = 'products.csv'\n",
    "headers = ['Title', 'Price', 'User Rating', 'Free Shipping Status', 'Daraz Mall Status', 'Seller Rating', 'Shipping rating', 'link']\n",
    "pd.DataFrame(columns=headers).to_csv(output_csv, index=False)"
   ]
  },
  {
   "cell_type": "code",
   "execution_count": 97,
   "metadata": {},
   "outputs": [],
   "source": [
    "review_csv = 'reviews.csv'\n",
    "headers = ['id','Review']\n",
    "pd.DataFrame(columns=headers).to_csv(review_csv, index=False)"
   ]
  },
  {
   "cell_type": "code",
   "execution_count": 98,
   "metadata": {},
   "outputs": [],
   "source": [
    "def scroll_to_element(element):\n",
    "    driver.execute_script(\"arguments[0].scrollIntoView();\", element)"
   ]
  },
  {
   "cell_type": "code",
   "execution_count": 100,
   "metadata": {},
   "outputs": [],
   "source": [
    "index = 39\n",
    "for _ in range(20):\n",
    "    ad_grid = driver.find_element(By.XPATH, '/html/body/div[3]/div/div[4]/div[1]/div/div[1]')\n",
    "    ad_cards = ad_grid.find_elements(By.CLASS_NAME, 'gridItem--Yd0sa')\n",
    "    for idx,i in enumerate(ad_cards):\n",
    "        scroll_to_element(i)\n",
    "        name = i.find_element(By.XPATH,\"//a[@id='id-a-link']\")\n",
    "        if name.text == 'case' or name.text == 'Case' or name.text == 'cover' or name.text == 'Cover' or name.text == 'casing' or name.text == 'Casing' or name.text == 'protector' or name.text == 'Protector':\n",
    "            continue\n",
    "        link_element = i.find_element(By.CSS_SELECTOR,\"#id-a-link\")\n",
    "        product_url = link_element.get_attribute(\"href\")\n",
    "        driver.execute_script(f\"window.open('{product_url}', '_blank');\")\n",
    "        driver.switch_to.window(driver.window_handles[1])\n",
    "        time.sleep(5)\n",
    "        try:\n",
    "            title = driver.find_element(By.XPATH,\"/html/body/div[4]/div/div[3]/div[2]/div/div[1]/div[3]/div/div/span\")\n",
    "            price = driver.find_element(By.XPATH,'/html/body/div[4]/div/div[3]/div[2]/div/div[1]/div[7]/div/div/span')\n",
    "            userRating = driver.find_element(By.XPATH,'/html/body/div[4]/div/div[9]/div[1]/div[1]/div/div/div/div[2]/div[1]/div[1]/div[1]/span[1]')\n",
    "            sellerRating = driver.find_element(By.XPATH,'/html/body/div[4]/div/div[3]/div[2]/div/div[2]/div[5]/div/div[2]/div[1]/div[2]')\n",
    "            shippingRating = driver.find_element(By.XPATH,'/html/body/div[4]/div/div[3]/div[2]/div/div[2]/div[5]/div/div[2]/div[2]/div[2]')\n",
    "            shippingType = driver.find_element(By.XPATH,'/html/body/div[4]/div/div[3]/div[2]/div/div[2]/div[1]/div/div/div[3]/div/div[1]/div/div[1]/div[1]/div[1]/span[1]')\n",
    "        except:\n",
    "            driver.close()\n",
    "            driver.switch_to.window(driver.window_handles[0])\n",
    "        try:\n",
    "            darazMall = driver.find_element(By.XPATH,'/html/body/div[4]/div/div[3]/div[2]/div/div[1]/div[3]/div/div/img')\n",
    "            darazMallStatus = 'Yes'\n",
    "        except:\n",
    "            darazMallStatus = 'No'\n",
    "        try:\n",
    "            row = {}\n",
    "            row['id'] = index\n",
    "            row['Title'] = title.text\n",
    "            row['Price'] = (price.text)\n",
    "            row['User Rating'] = (userRating.text)\n",
    "            row['Free Shipping Status'] = shippingType.text\n",
    "            row['Daraz Mall Status'] = darazMallStatus\n",
    "            row['Seller Rating'] = (sellerRating.text)\n",
    "            row['Shipping rating'] = (shippingRating.text)\n",
    "            row['link'] = product_url\n",
    "            single_row_df = pd.DataFrame([row])\n",
    "            single_row_df.to_csv(output_csv, mode='a', header=False, index=False)\n",
    "            try:\n",
    "                pages = driver.find_element(By.XPATH,'/html/body/div[4]/div/div[9]/div[1]/div[1]/div/div/div/div[3]/div[4]/ul/li[8]/a')\n",
    "                pages = int(pages.text)\n",
    "                if pages > 3:\n",
    "                    pages = 3\n",
    "                for i in range(pages):\n",
    "                    body = driver.find_element(By.XPATH,'/html/body/div[4]/div/div[9]/div[1]')\n",
    "                    reviews = body.find_elements(By.CLASS_NAME,'review-item')\n",
    "                    for j in reviews:\n",
    "                        try:\n",
    "                            name = j.find_element(By.CLASS_NAME,'user')\n",
    "                            review = j.find_element(By.CLASS_NAME,'review-content-sl')\n",
    "                        except:\n",
    "                            continue\n",
    "                        if review.text == '':\n",
    "                            continue\n",
    "                        row = {}\n",
    "                        row['id'] = index\n",
    "                        row['Review'] = review.text\n",
    "                        single_row_df = pd.DataFrame([row])\n",
    "                        single_row_df.to_csv(review_csv, mode='a', header=False, index=False)\n",
    "                    button = driver.find_element(By.XPATH, '//li[@title=\"Next Page\"]')\n",
    "                    button.click()\n",
    "                    time.sleep(2)\n",
    "            except (NoSuchElementException, StaleElementReferenceException):\n",
    "                driver.close()\n",
    "                driver.switch_to.window(driver.window_handles[0])\n",
    "                index += 1\n",
    "                continue\n",
    "            driver.close()\n",
    "            driver.switch_to.window(driver.window_handles[0])\n",
    "            index += 1\n",
    "        except:\n",
    "            continue\n",
    "    nextButton = driver.find_element(By.XPATH,'/html/body/div[3]/div/div[4]/div[1]/div/div[1]/div[3]/div/div/ul/li[9]/a')\n",
    "    driver.execute_script(\"arguments[0].scrollIntoView();\", nextButton)\n",
    "    time.sleep(1)\n",
    "    nextButton.click()\n",
    "    time.sleep(5)"
   ]
  },
  {
   "cell_type": "code",
   "execution_count": 101,
   "metadata": {},
   "outputs": [],
   "source": [
    "for _ in range(20):\n",
    "    ad_grid = driver.find_element(By.XPATH, '/html/body/div[3]/div/div[4]/div[1]/div/div[1]')\n",
    "    ad_cards = ad_grid.find_elements(By.CLASS_NAME, 'gridItem--Yd0sa')\n",
    "    for idx,i in enumerate(ad_cards):\n",
    "        scroll_to_element(i)\n",
    "        name = i.find_element(By.XPATH,\"//a[@id='id-a-link']\")\n",
    "        if name.text == 'case' or name.text == 'Case' or name.text == 'cover' or name.text == 'Cover' or name.text == 'casing' or name.text == 'Casing' or name.text == 'protector' or name.text == 'Protector':\n",
    "            continue\n",
    "        link_element = i.find_element(By.CSS_SELECTOR,\"#id-a-link\")\n",
    "        product_url = link_element.get_attribute(\"href\")\n",
    "        driver.execute_script(f\"window.open('{product_url}', '_blank');\")\n",
    "        driver.switch_to.window(driver.window_handles[1])\n",
    "        time.sleep(5)\n",
    "        try:\n",
    "            title = driver.find_element(By.XPATH,\"/html/body/div[4]/div/div[3]/div[2]/div/div[1]/div[3]/div/div/span\")\n",
    "            price = driver.find_element(By.XPATH,'/html/body/div[4]/div/div[3]/div[2]/div/div[1]/div[7]/div/div/span')\n",
    "            userRating = driver.find_element(By.XPATH,'/html/body/div[4]/div/div[9]/div[1]/div[1]/div/div/div/div[2]/div[1]/div[1]/div[1]/span[1]')\n",
    "            sellerRating = driver.find_element(By.XPATH,'/html/body/div[4]/div/div[3]/div[2]/div/div[2]/div[5]/div/div[2]/div[1]/div[2]')\n",
    "            shippingRating = driver.find_element(By.XPATH,'/html/body/div[4]/div/div[3]/div[2]/div/div[2]/div[5]/div/div[2]/div[2]/div[2]')\n",
    "            shippingType = driver.find_element(By.XPATH,'/html/body/div[4]/div/div[3]/div[2]/div/div[2]/div[1]/div/div/div[3]/div/div[1]/div/div[1]/div[1]/div[1]/span[1]')\n",
    "        except:\n",
    "            driver.close()\n",
    "            driver.switch_to.window(driver.window_handles[0])\n",
    "        try:\n",
    "            darazMall = driver.find_element(By.XPATH,'/html/body/div[4]/div/div[3]/div[2]/div/div[1]/div[3]/div/div/img')\n",
    "            darazMallStatus = 'Yes'\n",
    "        except:\n",
    "            darazMallStatus = 'No'\n",
    "        try:\n",
    "            row = {}\n",
    "            row['id'] = index\n",
    "            row['Title'] = title.text\n",
    "            row['Price'] = (price.text)\n",
    "            row['User Rating'] = (userRating.text)\n",
    "            row['Free Shipping Status'] = shippingType.text\n",
    "            row['Daraz Mall Status'] = darazMallStatus\n",
    "            row['Seller Rating'] = (sellerRating.text)\n",
    "            row['Shipping rating'] = (shippingRating.text)\n",
    "            row['link'] = product_url\n",
    "            single_row_df = pd.DataFrame([row])\n",
    "            single_row_df.to_csv(output_csv, mode='a', header=False, index=False)\n",
    "            try:\n",
    "                pages = driver.find_element(By.XPATH,'/html/body/div[4]/div/div[9]/div[1]/div[1]/div/div/div/div[3]/div[4]/ul/li[8]/a')\n",
    "                pages = int(pages.text)\n",
    "                if pages > 3:\n",
    "                    pages = 3\n",
    "                for i in range(pages):\n",
    "                    body = driver.find_element(By.XPATH,'/html/body/div[4]/div/div[9]/div[1]')\n",
    "                    reviews = body.find_elements(By.CLASS_NAME,'review-item')\n",
    "                    for j in reviews:\n",
    "                        try:\n",
    "                            name = j.find_element(By.CLASS_NAME,'user')\n",
    "                            review = j.find_element(By.CLASS_NAME,'review-content-sl')\n",
    "                        except:\n",
    "                            continue\n",
    "                        if review.text == '':\n",
    "                            continue\n",
    "                        row = {}\n",
    "                        row['id'] = index\n",
    "                        row['Review'] = review.text\n",
    "                        single_row_df = pd.DataFrame([row])\n",
    "                        single_row_df.to_csv(review_csv, mode='a', header=False, index=False)\n",
    "                    button = driver.find_element(By.XPATH, '//li[@title=\"Next Page\"]')\n",
    "                    button.click()\n",
    "                    time.sleep(2)\n",
    "            except (NoSuchElementException, StaleElementReferenceException):\n",
    "                driver.close()\n",
    "                driver.switch_to.window(driver.window_handles[0])\n",
    "                index += 1\n",
    "                continue\n",
    "            driver.close()\n",
    "            driver.switch_to.window(driver.window_handles[0])\n",
    "            index += 1\n",
    "        except:\n",
    "            continue\n",
    "    nextButton = driver.find_element(By.XPATH,'/html/body/div[3]/div/div[4]/div[1]/div/div[1]/div[3]/div/div/ul/li[9]/a')\n",
    "    driver.execute_script(\"arguments[0].scrollIntoView();\", nextButton)\n",
    "    time.sleep(1)\n",
    "    nextButton.click()\n",
    "    time.sleep(5)"
   ]
  },
  {
   "cell_type": "code",
   "execution_count": 121,
   "metadata": {},
   "outputs": [],
   "source": [
    "productDF = pd.read_csv('products.csv')"
   ]
  },
  {
   "cell_type": "code",
   "execution_count": 122,
   "metadata": {},
   "outputs": [],
   "source": [
    "productDF['Price'] = productDF['Price'].replace('Rs. ','', regex=True).replace(',','', regex=True).astype(float)\n",
    "productDF['User Rating'] = productDF['User Rating'].astype(float)\n",
    "productDF['Seller Rating'] = productDF['Seller Rating'].replace('%','', regex=True)\n",
    "productDF['Seller Rating'] = pd.to_numeric(productDF['Seller Rating'], errors='coerce')\n",
    "productDF['Seller Rating'] = productDF['Seller Rating'].fillna(0)\n",
    "try:\n",
    "    productDF['Shipping rating'] = productDF['Shipping rating'].replace('%','', regex=True).astype(float)\n",
    "except:\n",
    "    productDF['Shipping rating'] = 0\n"
   ]
  },
  {
   "cell_type": "code",
   "execution_count": 123,
   "metadata": {},
   "outputs": [],
   "source": [
    "for i in productDF.index:\n",
    "    Score = productDF.loc[i, 'Price']\n",
    "    if productDF.loc[i, 'Daraz Mall Status'] == 'Yes':\n",
    "        Score += 5000\n",
    "    if productDF.loc[i, 'Free Shipping Status'] == 'Free Shipping':\n",
    "        Score += 1000\n",
    "    elif productDF.loc[i, 'Free Shipping Status'] == 'Free Delivery':\n",
    "        Score += 1000\n",
    "    elif productDF.loc[i, 'Free Shipping Status'] == 'Get it Today':\n",
    "        Score += 500\n",
    "    elif productDF.loc[i, 'Free Shipping Status'] == 'Fastest Delivery':\n",
    "        Score += 500\n",
    "    seller_rating = productDF.loc[i, 'Seller Rating']\n",
    "    if seller_rating == 0 and productDF.loc[i, 'Seller Rating'] == 'New Seller':\n",
    "        seller_rating = 50\n",
    "    Score += 10000 * (\n",
    "        (0.4 * (productDF.loc[i, 'User Rating'] / 5)) +\n",
    "        (0.4 * (productDF.loc[i, 'Shipping rating'] / 5)) +\n",
    "        (0.2 * (seller_rating / 100)) +\n",
    "        0.2 * (productDF.loc[i, 'Shipping rating'] / 100)\n",
    "    )\n",
    "    productDF.loc[i, 'Score'] = Score"
   ]
  },
  {
   "cell_type": "code",
   "execution_count": 124,
   "metadata": {},
   "outputs": [],
   "source": [
    "productDF.to_csv('final_products.csv')"
   ]
  },
  {
   "cell_type": "code",
   "execution_count": 125,
   "metadata": {},
   "outputs": [],
   "source": [
    "productDF = pd.read_csv('final_products.csv')"
   ]
  },
  {
   "cell_type": "code",
   "execution_count": 127,
   "metadata": {},
   "outputs": [],
   "source": [
    "productDF['RAM'] = productDF['Title'].str.extract(r'(\\d+\\s*(?:GB|G|B)\\s*(?:RAM)?)')\n",
    "productDF['RAM'] = productDF['RAM'].str.replace('RAM','')\n",
    "productDF['RAM'] = productDF['RAM'].str.replace('GB','')\n",
    "productDF['RAM'] = productDF['RAM'].str.replace('G','')\n",
    "productDF['RAM'] = productDF['RAM'].fillna(0).astype(int)\n",
    "productDF['ROM'] = productDF['Title'].str.extract(r'(\\d{2,}(?:\\s?GB\\s?(?:ROM|R))?)')\n",
    "productDF['ROM'] = productDF['ROM'].str.replace('ROM','')\n",
    "productDF['ROM'] = productDF['ROM'].str.replace('GB','')\n",
    "productDF['ROM'] = productDF['ROM'].str.replace('R','')\n",
    "productDF['ROM'] = productDF['ROM'].fillna(0).astype(int)\n",
    "productDF['Battery'] = productDF['Title'].str.extract(r'(\\d+\\s?(?:mAh\\s)?Battery)')\n",
    "productDF['Battery'] = productDF['Battery'].str.replace('mAh','')\n",
    "productDF['Battery'] = productDF['Battery'].str.replace('Battery','')\n",
    "productDF['Battery'] = productDF['Battery'].fillna(0).astype(int)\n"
   ]
  },
  {
   "cell_type": "code",
   "execution_count": 130,
   "metadata": {},
   "outputs": [],
   "source": [
    "productDF.to_csv('final_products.csv')"
   ]
  },
  {
   "cell_type": "code",
   "execution_count": 129,
   "metadata": {},
   "outputs": [],
   "source": [
    "productDF = productDF[~productDF.duplicated(keep=False)]"
   ]
  }
 ],
 "metadata": {
  "kernelspec": {
   "display_name": "Python 3",
   "language": "python",
   "name": "python3"
  },
  "language_info": {
   "codemirror_mode": {
    "name": "ipython",
    "version": 3
   },
   "file_extension": ".py",
   "mimetype": "text/x-python",
   "name": "python",
   "nbconvert_exporter": "python",
   "pygments_lexer": "ipython3",
   "version": "3.11.4"
  }
 },
 "nbformat": 4,
 "nbformat_minor": 2
}
